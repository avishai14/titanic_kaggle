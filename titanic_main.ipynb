{
 "cells": [
  {
   "cell_type": "code",
   "execution_count": null,
   "metadata": {},
   "outputs": [],
   "source": [
    "\n",
    "\n",
    "from matplotlib import pyplot as plt\n",
    "import pandas as pd\n",
    "import numpy as np\n",
    "from sklearn.preprocessing import LabelEncoder , OneHotEncoder\n",
    "from sklearn.model_selection import train_test_split , GridSearchCV\n",
    "from sklearn.linear_model import LogisticRegression\n",
    "from sklearn.ensemble import RandomForestClassifier\n",
    "\n",
    "\n",
    "%matplotlib inline"
   ]
  },
  {
   "cell_type": "code",
   "execution_count": null,
   "metadata": {
    "scrolled": true
   },
   "outputs": [],
   "source": [
    "\n",
    "train_df = pd.read_csv('train.csv')\n",
    "test_df = pd.read_csv('test.csv')\n",
    "train_df.head()"
   ]
  },
  {
   "cell_type": "code",
   "execution_count": null,
   "metadata": {},
   "outputs": [],
   "source": [
    "train_df['CabinBin'] = train_df['Cabin'].isna().astype(int)"
   ]
  },
  {
   "cell_type": "code",
   "execution_count": null,
   "metadata": {},
   "outputs": [],
   "source": [
    "train_df.info()"
   ]
  },
  {
   "cell_type": "code",
   "execution_count": null,
   "metadata": {},
   "outputs": [],
   "source": [
    "grouped = train_df.groupby('Survived')\n",
    "survived_counts = grouped.count()\n",
    "\n",
    "plt.bar([0,1] , survived_counts['PassengerId'])\n",
    "plt.xticks([0,1] , ['yes','no'])"
   ]
  },
  {
   "cell_type": "code",
   "execution_count": null,
   "metadata": {},
   "outputs": [],
   "source": [
    "\n",
    "\n",
    "def feature_anlalysis(col):\n",
    "    grouped = train_df.groupby(col)\n",
    "    counts = grouped.count()['Survived']\n",
    "    target_rate = grouped.mean()['Survived']\n",
    "\n",
    "    x = np.arange(len(counts))\n",
    "    plt.subplot(1,2,1)\n",
    "    plt.bar( x, counts)\n",
    "    plt.xticks(x, counts.index)\n",
    "    plt.title(col + ' counts')\n",
    "    plt.subplot(1,2,2)\n",
    "    plt.bar(x, target_rate)\n",
    "    plt.xticks(x, target_rate.index)\n",
    "    plt.title(col + ' rates')\n",
    "    \n",
    "\n",
    "feature_anlalysis('CabinBin')\n",
    "dummy = 0\n"
   ]
  },
  {
   "cell_type": "code",
   "execution_count": null,
   "metadata": {
    "scrolled": false
   },
   "outputs": [],
   "source": [
    "train_df.columns\n",
    "train_df.Fare"
   ]
  },
  {
   "cell_type": "code",
   "execution_count": null,
   "metadata": {},
   "outputs": [],
   "source": [
    "# encoder = OneHotEncoder(sparse=False)\n",
    "# integer_encoded = encoder.fit_transform(train_df.)\n",
    "X = train_df.drop('Survived' , axis = 1)\n",
    "y = train_df['Survived']\n",
    "\n",
    "pclass_ecnoded = pd.get_dummies(X['Pclass'] , prefix='Pclass')\n",
    "X = pd.concat([X,pclass_ecnoded],  axis = 1)\n",
    "X['Sex'] = (X['Sex']=='male').astype(int)  \n",
    "X['ParchBin'] = (X['Parch'] > 0).astype(int)\n",
    "\n",
    "\n",
    "embarked_ecnoded = pd.get_dummies(X['Embarked'] , prefix='embarked_ecnoded')\n",
    "X = pd.concat([X,embarked_ecnoded],  axis = 1)\n",
    "X.head()\n",
    "\n",
    "\n"
   ]
  },
  {
   "cell_type": "code",
   "execution_count": null,
   "metadata": {},
   "outputs": [],
   "source": [
    "features = ['Sex', 'Age', 'SibSp' ,'Fare','Pclass_1', 'Pclass_2',\n",
    "            'Pclass_3', 'ParchBin', 'embarked_ecnoded_C', 'embarked_ecnoded_Q',\n",
    "            'embarked_ecnoded_S' , 'CabinBin']\n",
    "# features = ['Sex',  'CabinBin' , 'Age']\n",
    "\n",
    "\n",
    "X_train, X_test, y_train, y_test = train_test_split(X[features], y, test_size=0.33, random_state=42)\n",
    "avg_age = X_train['Age'].mean()\n",
    "X_train.loc[X_train['Age'].isna() ,'Age'] = avg_age\n",
    "X_test.loc[X_test['Age'].isna() ,'Age'] = avg_age"
   ]
  },
  {
   "cell_type": "code",
   "execution_count": null,
   "metadata": {},
   "outputs": [],
   "source": [
    "def test_clf(clf , p_X_test , p_y_test):\n",
    "    y_pred = clf.predict(p_X_test)\n",
    "    accuracy = np.sum(y_pred == p_y_test) / len(p_y_test)\n",
    "    print('accuracy = {}'.format(accuracy))\n",
    "    "
   ]
  },
  {
   "cell_type": "code",
   "execution_count": null,
   "metadata": {},
   "outputs": [],
   "source": [
    "lr_clf = LogisticRegression(C = 100)\n",
    "lr_clf.fit(X_train , y_train )\n",
    "\n",
    "test_clf(lr_clf , X_test , y_test)\n",
    "\n",
    "\n",
    "\n"
   ]
  },
  {
   "cell_type": "code",
   "execution_count": null,
   "metadata": {},
   "outputs": [],
   "source": [
    "grid_search = GridSearchCV(cv=5,estimator= LogisticRegression(solver='liblinear'),\n",
    "                           n_jobs=None,param_grid={'C' : [0.01 ,0.05, 0.1 , 0.2, 0.5 ,1]},  verbose=1)\n",
    "grid_search.fit( X_train , y_train)\n",
    "# grid_search.cv_results_\n",
    "grid_search.best_params_"
   ]
  },
  {
   "cell_type": "code",
   "execution_count": null,
   "metadata": {},
   "outputs": [],
   "source": [
    "class SexClassifier ():\n",
    "    \n",
    "    def fit(self ,X, y):\n",
    "        pass\n",
    "    \n",
    "    def predict(self, X):\n",
    "        return (X['Sex'] == 0 ).astype(int)\n",
    "    \n",
    "    \n",
    "    \n",
    "test_clf(SexClassifier() , X_test , y_test)"
   ]
  },
  {
   "cell_type": "code",
   "execution_count": null,
   "metadata": {},
   "outputs": [],
   "source": [
    "rf_clf = RandomForestClassifier( n_estimators=1000,max_depth = 5 , min_samples_leaf=2)\n",
    "rf_clf.fit(X_train , y_train)\n",
    "\n",
    "test_clf(rf_clf , X_test , y_test)\n"
   ]
  },
  {
   "cell_type": "code",
   "execution_count": null,
   "metadata": {},
   "outputs": [],
   "source": [
    "rf_clf.feature_importances_"
   ]
  },
  {
   "cell_type": "code",
   "execution_count": null,
   "metadata": {},
   "outputs": [],
   "source": [
    "X_train.columns"
   ]
  },
  {
   "cell_type": "code",
   "execution_count": null,
   "metadata": {},
   "outputs": [],
   "source": []
  }
 ],
 "metadata": {
  "kernelspec": {
   "display_name": "Python 3",
   "language": "python",
   "name": "python3"
  },
  "language_info": {
   "codemirror_mode": {
    "name": "ipython",
    "version": 3
   },
   "file_extension": ".py",
   "mimetype": "text/x-python",
   "name": "python",
   "nbconvert_exporter": "python",
   "pygments_lexer": "ipython3",
   "version": "3.6.6"
  }
 },
 "nbformat": 4,
 "nbformat_minor": 2
}
