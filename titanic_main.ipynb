{
 "cells": [
  {
   "cell_type": "code",
   "execution_count": 1,
   "metadata": {},
   "outputs": [],
   "source": [
    "\n",
    "from matplotlib import pyplot as plt\n",
    "import pandas as pd\n",
    "import numpy as np\n",
    "from sklearn.preprocessing import LabelEncoder , OneHotEncoder\n",
    "from sklearn.model_selection import train_test_split , GridSearchCV ,RandomizedSearchCV, cross_val_score\n",
    "from sklearn.linear_model import LogisticRegression\n",
    "from sklearn.ensemble import RandomForestClassifier , AdaBoostClassifier,GradientBoostingClassifier, VotingClassifier\n",
    "from sklearn.svm import SVC\n",
    "from sklearn.naive_bayes import GaussianNB\n",
    "from xgboost import XGBClassifier\n",
    "\n",
    "%matplotlib inline"
   ]
  },
  {
   "cell_type": "code",
   "execution_count": 2,
   "metadata": {
    "scrolled": true
   },
   "outputs": [
    {
     "name": "stdout",
     "output_type": "stream",
     "text": [
      "<class 'pandas.core.frame.DataFrame'>\n",
      "RangeIndex: 891 entries, 0 to 890\n",
      "Data columns (total 12 columns):\n",
      "PassengerId    891 non-null int64\n",
      "Survived       891 non-null int64\n",
      "Pclass         891 non-null int64\n",
      "Name           891 non-null object\n",
      "Sex            891 non-null object\n",
      "Age            714 non-null float64\n",
      "SibSp          891 non-null int64\n",
      "Parch          891 non-null int64\n",
      "Ticket         891 non-null object\n",
      "Fare           891 non-null float64\n",
      "Cabin          204 non-null object\n",
      "Embarked       889 non-null object\n",
      "dtypes: float64(2), int64(5), object(5)\n",
      "memory usage: 83.6+ KB\n"
     ]
    }
   ],
   "source": [
    "\n",
    "train_df = pd.read_csv('train.csv')\n",
    "test_df = pd.read_csv('test.csv')\n",
    "train_df.info()"
   ]
  },
  {
   "cell_type": "code",
   "execution_count": 3,
   "metadata": {},
   "outputs": [
    {
     "data": {
      "image/png": "[encoded data removed]",
      "text/plain": [
       "<Figure size 432x288 with 1 Axes>"
      ]
     },
     "metadata": {
      "needs_background": "light"
     },
     "output_type": "display_data"
    }
   ],
   "source": [
    "grouped = train_df.groupby('Survived')\n",
    "survived_counts = grouped.count()\n",
    "\n",
    "plt.bar([0,1] , survived_counts['PassengerId'])\n",
    "_ = plt.xticks([0,1] , ['yes','no'])"
   ]
  },
  {
   "cell_type": "code",
   "execution_count": 4,
   "metadata": {},
   "outputs": [],
   "source": [
    "def prepare_features(train_df , test_df):\n",
    "    res = []\n",
    "    for i , df in enumerate([train_df , test_df]):\n",
    "        X = pd.get_dummies(df['Pclass'] , prefix='Pclass')\n",
    "\n",
    "        title = np.zeros(len(df))    \n",
    "        title[df['Name'].str.contains('Mr.')] = 1\n",
    "        title[df['Name'].str.contains('Mrs.')] = 2\n",
    "        title[df['Name'].str.contains('Miss.')] = 3\n",
    "        X = pd.concat([X,pd.get_dummies(title , prefix='Title')] , axis = 1)\n",
    "        age = df['Age']\n",
    "        if i == 0:\n",
    "            age_avg = age.mean()\n",
    "        age.fillna(age_avg , inplace = True)\n",
    "        X['AgeRounded'] = round(df['Age']/20).astype(int)\n",
    "        X['Sex'] = (df['Sex'] == 'female').astype(int)\n",
    "\n",
    "        X['SibSpBin'] = (df['SibSp'] > 0).astype(int)\n",
    "        X['ParchBin'] =(df['Parch'] > 0).astype(int)\n",
    "\n",
    "        X['HadCabin']  = (df['Cabin'].isna()).astype(int)    \n",
    "        X['Fare'] = df['Fare']\n",
    "        X['Fare'].fillna(20 , inplace = True)\n",
    "\n",
    "        embarked = np.zeros(len(df))\n",
    "        embarked[df['Embarked'] == 'Q'] = 1\n",
    "        embarked[df['Embarked'] == 'S'] = 2\n",
    "\n",
    "        X = pd.concat([X,pd.get_dummies(embarked , prefix='Embarked')] , axis = 1)\n",
    "        res.append(X)\n",
    "    \n",
    "    X_train = res[0]\n",
    "    X_test = res[1]\n",
    "    return X_train , X_test\n",
    "\n",
    "def feature_analysis(col):\n",
    "    grouped = train_df.groupby(col)\n",
    "    counts = grouped.count()['Survived']\n",
    "    target_rate = grouped.mean()['Survived']\n",
    "\n",
    "    x = np.arange(len(counts))\n",
    "    plt.subplot(1,2,1)\n",
    "    plt.bar( x, counts)\n",
    "    plt.xticks(x, counts.index)\n",
    "    plt.title(col + ' counts')\n",
    "    plt.subplot(1,2,2)\n",
    "    plt.bar(x, target_rate)\n",
    "    plt.xticks(x, target_rate.index)\n",
    "    plt.title(col + ' rates')\n",
    "    \n",
    "\n",
    "def create_submission(name , ids , predictions):\n",
    "    df_sub = pd.DataFrame.from_dict({'PassengerId' : ids , 'Survived' : predictions})\n",
    "    df_sub.to_csv('sub_' + name + '.csv' , index = False)"
   ]
  },
  {
   "cell_type": "markdown",
   "metadata": {},
   "source": [
    "## Feature Eng."
   ]
  },
  {
   "cell_type": "markdown",
   "metadata": {},
   "source": [
    "### Pclass"
   ]
  },
  {
   "cell_type": "code",
   "execution_count": 5,
   "metadata": {},
   "outputs": [
    {
     "data": {
      "image/png": "[encoded data removed]",
      "text/plain": [
       "<Figure size 432x288 with 2 Axes>"
      ]
     },
     "metadata": {
      "needs_background": "light"
     },
     "output_type": "display_data"
    }
   ],
   "source": [
    "train_df['Pclass'].unique()\n",
    "    \n",
    "feature_analysis('Pclass')"
   ]
  },
  {
   "cell_type": "markdown",
   "metadata": {
    "scrolled": false
   },
   "source": [
    "### Name"
   ]
  },
  {
   "cell_type": "code",
   "execution_count": 6,
   "metadata": {},
   "outputs": [
    {
     "name": "stdout",
     "output_type": "stream",
     "text": [
      "Title\n",
      "0.0     64\n",
      "1.0    518\n",
      "2.0    127\n",
      "3.0    182\n",
      "Name: PassengerId, dtype: int64\n"
     ]
    },
    {
     "data": {
      "image/png": "[encoded data removed]",
      "text/plain": [
       "<Figure size 432x288 with 2 Axes>"
      ]
     },
     "metadata": {
      "needs_background": "light"
     },
     "output_type": "display_data"
    }
   ],
   "source": [
    "title = np.zeros(len(train_df))\n",
    "\n",
    "# other title are small groups\n",
    "title[train_df['Name'].str.contains('Mr.')] = 1\n",
    "title[train_df['Name'].str.contains('Mrs.')] = 2\n",
    "title[train_df['Name'].str.contains('Miss.')] = 3\n",
    "# title[train_df['Name'].str.contains('Master.')] = 4\n",
    "\n",
    "train_df['Title'] = title\n",
    "print(train_df.groupby('Title')['PassengerId'].count())\n",
    "\n",
    "feature_analysis('Title')\n",
    "\n",
    "\n"
   ]
  },
  {
   "cell_type": "markdown",
   "metadata": {},
   "source": [
    "### Age"
   ]
  },
  {
   "cell_type": "code",
   "execution_count": 7,
   "metadata": {},
   "outputs": [
    {
     "data": {
      "text/plain": [
       "<matplotlib.axes._subplots.AxesSubplot at 0x1c1450c2438>"
      ]
     },
     "execution_count": 7,
     "metadata": {},
     "output_type": "execute_result"
    },
    {
     "data": {
      "image/png": "[encoded data removed]",
      "text/plain": [
       "<Figure size 432x288 with 1 Axes>"
      ]
     },
     "metadata": {
      "needs_background": "light"
     },
     "output_type": "display_data"
    }
   ],
   "source": [
    "train_df['Age'].hist()"
   ]
  },
  {
   "cell_type": "code",
   "execution_count": 8,
   "metadata": {},
   "outputs": [
    {
     "data": {
      "image/png": "[encoded data removed]",
      "text/plain": [
       "<Figure size 432x288 with 2 Axes>"
      ]
     },
     "metadata": {
      "needs_background": "light"
     },
     "output_type": "display_data"
    }
   ],
   "source": [
    "train_df['Age'].fillna(train_df['Age'].mean() , inplace = True)\n",
    "train_df['AgeRounded'] = round(train_df['Age']/20).astype(int)\n",
    "\n",
    "feature_analysis('AgeRounded')"
   ]
  },
  {
   "cell_type": "markdown",
   "metadata": {},
   "source": [
    "### Sex"
   ]
  },
  {
   "cell_type": "code",
   "execution_count": 9,
   "metadata": {},
   "outputs": [
    {
     "data": {
      "image/png": "[encoded data removed]",
      "text/plain": [
       "<Figure size 432x288 with 2 Axes>"
      ]
     },
     "metadata": {
      "needs_background": "light"
     },
     "output_type": "display_data"
    }
   ],
   "source": [
    "feature_analysis('Sex')"
   ]
  },
  {
   "cell_type": "markdown",
   "metadata": {},
   "source": [
    "### Siblings"
   ]
  },
  {
   "cell_type": "code",
   "execution_count": 10,
   "metadata": {},
   "outputs": [
    {
     "data": {
      "image/png": "[encoded data removed]",
      "text/plain": [
       "<Figure size 432x288 with 2 Axes>"
      ]
     },
     "metadata": {
      "needs_background": "light"
     },
     "output_type": "display_data"
    }
   ],
   "source": [
    "train_df['SibSpBin'] = train_df['SibSp'] > 0\n",
    "feature_analysis('SibSpBin')"
   ]
  },
  {
   "cell_type": "markdown",
   "metadata": {},
   "source": [
    "### Parch"
   ]
  },
  {
   "cell_type": "code",
   "execution_count": 11,
   "metadata": {},
   "outputs": [
    {
     "data": {
      "image/png": "[encoded data removed]",
      "text/plain": [
       "<Figure size 432x288 with 2 Axes>"
      ]
     },
     "metadata": {
      "needs_background": "light"
     },
     "output_type": "display_data"
    }
   ],
   "source": [
    "train_df['ParchBin'] = train_df['Parch'] > 0\n",
    "feature_analysis('ParchBin')"
   ]
  },
  {
   "cell_type": "code",
   "execution_count": 12,
   "metadata": {},
   "outputs": [
    {
     "data": {
      "image/png": "[encoded data removed]",
      "text/plain": [
       "<Figure size 432x288 with 2 Axes>"
      ]
     },
     "metadata": {
      "needs_background": "light"
     },
     "output_type": "display_data"
    }
   ],
   "source": [
    "train_df['FamilySize'] = train_df['Parch'] +train_df['SibSp'] + 1\n",
    "feature_analysis('FamilySize')"
   ]
  },
  {
   "cell_type": "markdown",
   "metadata": {},
   "source": [
    "### Cabin"
   ]
  },
  {
   "cell_type": "code",
   "execution_count": 13,
   "metadata": {},
   "outputs": [
    {
     "data": {
      "image/png": "[encoded data removed]",
      "text/plain": [
       "<Figure size 432x288 with 2 Axes>"
      ]
     },
     "metadata": {
      "needs_background": "light"
     },
     "output_type": "display_data"
    }
   ],
   "source": [
    "train_df['CabinShort'] = train_df['Cabin']\n",
    "train_df['CabinShort'] = train_df['CabinShort'].fillna('X')\n",
    "train_df['CabinShort'] = train_df['CabinShort'].str[0]\n",
    "\n",
    "train_df['CabinBin'] = train_df['Cabin'].isna()\n",
    "\n",
    "feature_analysis('CabinBin')"
   ]
  },
  {
   "cell_type": "markdown",
   "metadata": {},
   "source": [
    "### Embarked"
   ]
  },
  {
   "cell_type": "code",
   "execution_count": 14,
   "metadata": {},
   "outputs": [
    {
     "data": {
      "image/png": "[encoded data removed]",
      "text/plain": [
       "<Figure size 432x288 with 2 Axes>"
      ]
     },
     "metadata": {
      "needs_background": "light"
     },
     "output_type": "display_data"
    }
   ],
   "source": [
    "feature_analysis('Embarked')"
   ]
  },
  {
   "cell_type": "code",
   "execution_count": 15,
   "metadata": {},
   "outputs": [
    {
     "data": {
      "text/html": [
       "<div>\n",
       "<style scoped>\n",
       "    .dataframe tbody tr th:only-of-type {\n",
       "        vertical-align: middle;\n",
       "    }\n",
       "\n",
       "    .dataframe tbody tr th {\n",
       "        vertical-align: top;\n",
       "    }\n",
       "\n",
       "    .dataframe thead th {\n",
       "        text-align: right;\n",
       "    }\n",
       "</style>\n",
       "<table border=\"1\" class=\"dataframe\">\n",
       "  <thead>\n",
       "    <tr style=\"text-align: right;\">\n",
       "      <th></th>\n",
       "      <th>Pclass_1</th>\n",
       "      <th>Pclass_2</th>\n",
       "      <th>Pclass_3</th>\n",
       "      <th>Title_0.0</th>\n",
       "      <th>Title_1.0</th>\n",
       "      <th>Title_2.0</th>\n",
       "      <th>Title_3.0</th>\n",
       "      <th>AgeRounded</th>\n",
       "      <th>Sex</th>\n",
       "      <th>SibSpBin</th>\n",
       "      <th>ParchBin</th>\n",
       "      <th>HadCabin</th>\n",
       "      <th>Fare</th>\n",
       "      <th>Embarked_0.0</th>\n",
       "      <th>Embarked_1.0</th>\n",
       "      <th>Embarked_2.0</th>\n",
       "    </tr>\n",
       "  </thead>\n",
       "  <tbody>\n",
       "    <tr>\n",
       "      <th>0</th>\n",
       "      <td>0</td>\n",
       "      <td>0</td>\n",
       "      <td>1</td>\n",
       "      <td>0</td>\n",
       "      <td>1</td>\n",
       "      <td>0</td>\n",
       "      <td>0</td>\n",
       "      <td>1</td>\n",
       "      <td>0</td>\n",
       "      <td>1</td>\n",
       "      <td>0</td>\n",
       "      <td>1</td>\n",
       "      <td>7.2500</td>\n",
       "      <td>0</td>\n",
       "      <td>0</td>\n",
       "      <td>1</td>\n",
       "    </tr>\n",
       "    <tr>\n",
       "      <th>1</th>\n",
       "      <td>1</td>\n",
       "      <td>0</td>\n",
       "      <td>0</td>\n",
       "      <td>0</td>\n",
       "      <td>0</td>\n",
       "      <td>1</td>\n",
       "      <td>0</td>\n",
       "      <td>2</td>\n",
       "      <td>1</td>\n",
       "      <td>1</td>\n",
       "      <td>0</td>\n",
       "      <td>0</td>\n",
       "      <td>71.2833</td>\n",
       "      <td>1</td>\n",
       "      <td>0</td>\n",
       "      <td>0</td>\n",
       "    </tr>\n",
       "    <tr>\n",
       "      <th>2</th>\n",
       "      <td>0</td>\n",
       "      <td>0</td>\n",
       "      <td>1</td>\n",
       "      <td>0</td>\n",
       "      <td>0</td>\n",
       "      <td>0</td>\n",
       "      <td>1</td>\n",
       "      <td>1</td>\n",
       "      <td>1</td>\n",
       "      <td>0</td>\n",
       "      <td>0</td>\n",
       "      <td>1</td>\n",
       "      <td>7.9250</td>\n",
       "      <td>0</td>\n",
       "      <td>0</td>\n",
       "      <td>1</td>\n",
       "    </tr>\n",
       "    <tr>\n",
       "      <th>3</th>\n",
       "      <td>1</td>\n",
       "      <td>0</td>\n",
       "      <td>0</td>\n",
       "      <td>0</td>\n",
       "      <td>0</td>\n",
       "      <td>1</td>\n",
       "      <td>0</td>\n",
       "      <td>2</td>\n",
       "      <td>1</td>\n",
       "      <td>1</td>\n",
       "      <td>0</td>\n",
       "      <td>0</td>\n",
       "      <td>53.1000</td>\n",
       "      <td>0</td>\n",
       "      <td>0</td>\n",
       "      <td>1</td>\n",
       "    </tr>\n",
       "    <tr>\n",
       "      <th>4</th>\n",
       "      <td>0</td>\n",
       "      <td>0</td>\n",
       "      <td>1</td>\n",
       "      <td>0</td>\n",
       "      <td>1</td>\n",
       "      <td>0</td>\n",
       "      <td>0</td>\n",
       "      <td>2</td>\n",
       "      <td>0</td>\n",
       "      <td>0</td>\n",
       "      <td>0</td>\n",
       "      <td>1</td>\n",
       "      <td>8.0500</td>\n",
       "      <td>0</td>\n",
       "      <td>0</td>\n",
       "      <td>1</td>\n",
       "    </tr>\n",
       "    <tr>\n",
       "      <th>5</th>\n",
       "      <td>0</td>\n",
       "      <td>0</td>\n",
       "      <td>1</td>\n",
       "      <td>0</td>\n",
       "      <td>1</td>\n",
       "      <td>0</td>\n",
       "      <td>0</td>\n",
       "      <td>1</td>\n",
       "      <td>0</td>\n",
       "      <td>0</td>\n",
       "      <td>0</td>\n",
       "      <td>1</td>\n",
       "      <td>8.4583</td>\n",
       "      <td>0</td>\n",
       "      <td>1</td>\n",
       "      <td>0</td>\n",
       "    </tr>\n",
       "    <tr>\n",
       "      <th>6</th>\n",
       "      <td>1</td>\n",
       "      <td>0</td>\n",
       "      <td>0</td>\n",
       "      <td>0</td>\n",
       "      <td>1</td>\n",
       "      <td>0</td>\n",
       "      <td>0</td>\n",
       "      <td>3</td>\n",
       "      <td>0</td>\n",
       "      <td>0</td>\n",
       "      <td>0</td>\n",
       "      <td>0</td>\n",
       "      <td>51.8625</td>\n",
       "      <td>0</td>\n",
       "      <td>0</td>\n",
       "      <td>1</td>\n",
       "    </tr>\n",
       "    <tr>\n",
       "      <th>7</th>\n",
       "      <td>0</td>\n",
       "      <td>0</td>\n",
       "      <td>1</td>\n",
       "      <td>1</td>\n",
       "      <td>0</td>\n",
       "      <td>0</td>\n",
       "      <td>0</td>\n",
       "      <td>0</td>\n",
       "      <td>0</td>\n",
       "      <td>1</td>\n",
       "      <td>1</td>\n",
       "      <td>1</td>\n",
       "      <td>21.0750</td>\n",
       "      <td>0</td>\n",
       "      <td>0</td>\n",
       "      <td>1</td>\n",
       "    </tr>\n",
       "    <tr>\n",
       "      <th>8</th>\n",
       "      <td>0</td>\n",
       "      <td>0</td>\n",
       "      <td>1</td>\n",
       "      <td>0</td>\n",
       "      <td>0</td>\n",
       "      <td>1</td>\n",
       "      <td>0</td>\n",
       "      <td>1</td>\n",
       "      <td>1</td>\n",
       "      <td>0</td>\n",
       "      <td>1</td>\n",
       "      <td>1</td>\n",
       "      <td>11.1333</td>\n",
       "      <td>0</td>\n",
       "      <td>0</td>\n",
       "      <td>1</td>\n",
       "    </tr>\n",
       "    <tr>\n",
       "      <th>9</th>\n",
       "      <td>0</td>\n",
       "      <td>1</td>\n",
       "      <td>0</td>\n",
       "      <td>0</td>\n",
       "      <td>0</td>\n",
       "      <td>1</td>\n",
       "      <td>0</td>\n",
       "      <td>1</td>\n",
       "      <td>1</td>\n",
       "      <td>1</td>\n",
       "      <td>0</td>\n",
       "      <td>1</td>\n",
       "      <td>30.0708</td>\n",
       "      <td>1</td>\n",
       "      <td>0</td>\n",
       "      <td>0</td>\n",
       "    </tr>\n",
       "  </tbody>\n",
       "</table>\n",
       "</div>"
      ],
      "text/plain": [
       "   Pclass_1  Pclass_2  Pclass_3  Title_0.0  Title_1.0  Title_2.0  Title_3.0  \\\n",
       "0         0         0         1          0          1          0          0   \n",
       "1         1         0         0          0          0          1          0   \n",
       "2         0         0         1          0          0          0          1   \n",
       "3         1         0         0          0          0          1          0   \n",
       "4         0         0         1          0          1          0          0   \n",
       "5         0         0         1          0          1          0          0   \n",
       "6         1         0         0          0          1          0          0   \n",
       "7         0         0         1          1          0          0          0   \n",
       "8         0         0         1          0          0          1          0   \n",
       "9         0         1         0          0          0          1          0   \n",
       "\n",
       "   AgeRounded  Sex  SibSpBin  ParchBin  HadCabin     Fare  Embarked_0.0  \\\n",
       "0           1    0         1         0         1   7.2500             0   \n",
       "1           2    1         1         0         0  71.2833             1   \n",
       "2           1    1         0         0         1   7.9250             0   \n",
       "3           2    1         1         0         0  53.1000             0   \n",
       "4           2    0         0         0         1   8.0500             0   \n",
       "5           1    0         0         0         1   8.4583             0   \n",
       "6           3    0         0         0         0  51.8625             0   \n",
       "7           0    0         1         1         1  21.0750             0   \n",
       "8           1    1         0         1         1  11.1333             0   \n",
       "9           1    1         1         0         1  30.0708             1   \n",
       "\n",
       "   Embarked_1.0  Embarked_2.0  \n",
       "0             0             1  \n",
       "1             0             0  \n",
       "2             0             1  \n",
       "3             0             1  \n",
       "4             0             1  \n",
       "5             1             0  \n",
       "6             0             1  \n",
       "7             0             1  \n",
       "8             0             1  \n",
       "9             0             0  "
      ]
     },
     "execution_count": 15,
     "metadata": {},
     "output_type": "execute_result"
    }
   ],
   "source": [
    "\n",
    "X_train , X_test = prepare_features(train_df , test_df)\n",
    "y_train = train_df['Survived']\n",
    "\n",
    "X_train.head(10)\n"
   ]
  },
  {
   "cell_type": "code",
   "execution_count": 16,
   "metadata": {},
   "outputs": [],
   "source": [
    "def cross_val_test(clf , X_train , y_train):\n",
    "    cv_res = cross_val_score(clf,X_train, y_train , cv = 4 , scoring = 'accuracy')\n",
    "    print(f'cross validation mean = {cv_res.mean()}')\n",
    "    print(f'cross validation std = {cv_res.std()}')\n",
    "    "
   ]
  },
  {
   "cell_type": "code",
   "execution_count": 17,
   "metadata": {},
   "outputs": [
    {
     "name": "stdout",
     "output_type": "stream",
     "text": [
      "cross validation mean = 0.8170656893680998\n",
      "cross validation std = 0.012348250758819807\n"
     ]
    }
   ],
   "source": [
    "lr_clf = LogisticRegression(C = 100 , solver = 'liblinear')\n",
    "res = cross_val_test(lr_clf,X_train, y_train)\n"
   ]
  },
  {
   "cell_type": "code",
   "execution_count": 18,
   "metadata": {},
   "outputs": [
    {
     "name": "stdout",
     "output_type": "stream",
     "text": [
      "Fitting 4 folds for each of 24 candidates, totalling 96 fits\n"
     ]
    },
    {
     "name": "stderr",
     "output_type": "stream",
     "text": [
      "[Parallel(n_jobs=1)]: Using backend SequentialBackend with 1 concurrent workers.\n"
     ]
    },
    {
     "name": "stdout",
     "output_type": "stream",
     "text": [
      "best params : {'C': 20, 'penalty': 'l1', 'solver': 'liblinear'}\n",
      "best params : 0.8181818181818182\n",
      "cross validation mean = 0.8181817607966712\n",
      "cross validation std = 0.0116644737868191\n"
     ]
    },
    {
     "name": "stderr",
     "output_type": "stream",
     "text": [
      "[Parallel(n_jobs=1)]: Done  96 out of  96 | elapsed:    0.7s finished\n"
     ]
    }
   ],
   "source": [
    "param_grid={'solver' : ['liblinear'],'penalty' : ['l1', 'l2'],'C' : [0.01 ,0.05, 0.1 , 0.2, 0.5 ,1 ,5,10 ,20,30,40, 100]}\n",
    "grid_search = GridSearchCV(estimator=LogisticRegression(),cv=4,param_grid=param_grid,  verbose=1)\n",
    "grid_search_res = grid_search.fit(X_train , y_train)\n",
    "print(f'best params : {grid_search_res.best_params_}')\n",
    "print(f'best params : {grid_search_res.best_score_}')\n",
    "\n",
    "cross_val_test(grid_search_res.best_estimator_,X_train, y_train)\n"
   ]
  },
  {
   "cell_type": "code",
   "execution_count": 19,
   "metadata": {},
   "outputs": [
    {
     "name": "stderr",
     "output_type": "stream",
     "text": [
      "[Parallel(n_jobs=1)]: Using backend SequentialBackend with 1 concurrent workers.\n",
      "[Parallel(n_jobs=1)]: Done 500 out of 500 | elapsed:    0.1s finished\n",
      "[Parallel(n_jobs=1)]: Using backend SequentialBackend with 1 concurrent workers.\n",
      "[Parallel(n_jobs=1)]: Done 500 out of 500 | elapsed:    0.0s finished\n",
      "[Parallel(n_jobs=1)]: Using backend SequentialBackend with 1 concurrent workers.\n",
      "[Parallel(n_jobs=1)]: Done 500 out of 500 | elapsed:    0.1s finished\n",
      "[Parallel(n_jobs=1)]: Using backend SequentialBackend with 1 concurrent workers.\n",
      "[Parallel(n_jobs=1)]: Done 500 out of 500 | elapsed:    0.0s finished\n",
      "[Parallel(n_jobs=1)]: Using backend SequentialBackend with 1 concurrent workers.\n",
      "[Parallel(n_jobs=1)]: Done 500 out of 500 | elapsed:    0.1s finished\n",
      "[Parallel(n_jobs=1)]: Using backend SequentialBackend with 1 concurrent workers.\n",
      "[Parallel(n_jobs=1)]: Done 500 out of 500 | elapsed:    0.0s finished\n",
      "[Parallel(n_jobs=1)]: Using backend SequentialBackend with 1 concurrent workers.\n"
     ]
    },
    {
     "name": "stdout",
     "output_type": "stream",
     "text": [
      "cross validation mean = 0.8204490274627607\n",
      "cross validation std = 0.015871535211529522\n"
     ]
    },
    {
     "name": "stderr",
     "output_type": "stream",
     "text": [
      "[Parallel(n_jobs=1)]: Done 500 out of 500 | elapsed:    0.1s finished\n",
      "[Parallel(n_jobs=1)]: Using backend SequentialBackend with 1 concurrent workers.\n",
      "[Parallel(n_jobs=1)]: Done 500 out of 500 | elapsed:    0.0s finished\n"
     ]
    }
   ],
   "source": [
    "rf_clf = RandomForestClassifier(n_estimators=500,max_depth = 5 , min_samples_leaf=2 , verbose=True)\n",
    "cross_val_test(rf_clf,X_train, y_train)"
   ]
  },
  {
   "cell_type": "code",
   "execution_count": 21,
   "metadata": {
    "scrolled": false
   },
   "outputs": [
    {
     "name": "stdout",
     "output_type": "stream",
     "text": [
      "Fitting 4 folds for each of 200 candidates, totalling 800 fits\n"
     ]
    },
    {
     "name": "stderr",
     "output_type": "stream",
     "text": [
      "[Parallel(n_jobs=4)]: Using backend LokyBackend with 4 concurrent workers.\n",
      "[Parallel(n_jobs=4)]: Done  42 tasks      | elapsed:   16.5s\n",
      "[Parallel(n_jobs=4)]: Done 192 tasks      | elapsed:  1.2min\n",
      "[Parallel(n_jobs=4)]: Done 442 tasks      | elapsed:  3.0min\n",
      "[Parallel(n_jobs=4)]: Done 792 tasks      | elapsed:  5.0min\n",
      "[Parallel(n_jobs=4)]: Done 800 out of 800 | elapsed:  5.0min finished\n"
     ]
    },
    {
     "name": "stdout",
     "output_type": "stream",
     "text": [
      "best params : {'n_estimators': 1000, 'min_samples_split': 10, 'min_samples_leaf': 2, 'max_features': 'sqrt', 'max_depth': 80, 'bootstrap': True}\n",
      "best params : 0.8305274971941639\n",
      "cross validation mean = 0.8271655203409688\n",
      "cross validation std = 0.015619811665501622\n"
     ]
    }
   ],
   "source": [
    "\n",
    "param_grid = {'bootstrap': [True, False],\n",
    " 'max_depth': [10, 20, 30, 40, 50, 60, 70, 80, 90, 100, None],\n",
    " 'max_features': ['auto', 'sqrt'],\n",
    " 'min_samples_leaf': [1, 2, 4],\n",
    " 'min_samples_split': [2, 5, 10],\n",
    " 'n_estimators': [200, 400, 600, 800, 1000, 1200, 1400, 1600, 1800, 2000]}\n",
    "\n",
    "rf_grid_search = RandomizedSearchCV(estimator=RandomForestClassifier(),cv=4,param_distributions=param_grid,  \n",
    "                                 n_iter = 200,n_jobs=4,verbose=1)\n",
    "rf_grid_search.fit(X_train , y_train)\n",
    "print(f'best params : {rf_grid_search.best_params_}')\n",
    "print(f'best params : {rf_grid_search.best_score_}')\n",
    "\n",
    "cross_val_test(rf_grid_search.best_estimator_,X_train, y_train)\n",
    "\n"
   ]
  },
  {
   "cell_type": "code",
   "execution_count": null,
   "metadata": {},
   "outputs": [],
   "source": [
    "rf_clf = RandomForestClassifier(**rf_grid_search.best_params_)\n",
    "rf_clf.fit(X_train , y_train)\n",
    "preds = rf_clf.predict(X_test)\n",
    "create_submission('rf_grid' , test_df['PassengerId'] , preds)\n"
   ]
  },
  {
   "cell_type": "code",
   "execution_count": null,
   "metadata": {},
   "outputs": [],
   "source": [
    "rf_clf.fit(X_train , y_train)\n",
    "preds = rf_clf.predict(X_test)\n",
    "create_submission('rf' , test_df['PassengerId'] , preds)"
   ]
  },
  {
   "cell_type": "code",
   "execution_count": 23,
   "metadata": {},
   "outputs": [
    {
     "name": "stdout",
     "output_type": "stream",
     "text": [
      "cross validation mean = 0.828336915150256\n",
      "cross validation std = 0.020118618369619375\n"
     ]
    }
   ],
   "source": [
    "xgb_clf = XGBClassifier(\n",
    " learning_rate =0.01,\n",
    " n_estimators=1000,\n",
    " max_depth=3,\n",
    " min_child_weight=1,\n",
    " gamma=0,\n",
    " subsample=0.8,\n",
    " colsample_bytree=0.8,\n",
    " objective= 'binary:logistic',\n",
    " nthread=4,\n",
    " scale_pos_weight=1,\n",
    " seed=27)\n",
    "cross_val_test(xgb_clf , X_train , y_train)\n",
    "# xgb_clf.fit(X_train , y_train)"
   ]
  },
  {
   "cell_type": "code",
   "execution_count": null,
   "metadata": {},
   "outputs": [],
   "source": [
    "Cs = [0.001, 0.01, 0.1, 1, 10]\n",
    "gammas = [0.001, 0.01, 0.1, 1]\n",
    "kernels = ['linear' , 'rbf']\n",
    "param_grid = {'C': Cs, 'gamma' : gammas , 'kernel' : kernels}\n",
    "\n",
    "\n",
    "svc_grid_search = GridSearchCV(SVC(), param_grid, cv=4 , verbose = 1 , n_jobs=4)\n",
    "svc_grid_search.fit(X_train, y_train)\n",
    "cross_val_test(svc_grid_search.best_estimator_,X_train, y_train)"
   ]
  },
  {
   "cell_type": "code",
   "execution_count": 28,
   "metadata": {},
   "outputs": [
    {
     "name": "stdout",
     "output_type": "stream",
     "text": [
      "Fitting 4 folds for each of 200 candidates, totalling 800 fits\n"
     ]
    },
    {
     "name": "stderr",
     "output_type": "stream",
     "text": [
      "[Parallel(n_jobs=4)]: Using backend LokyBackend with 4 concurrent workers.\n",
      "[Parallel(n_jobs=4)]: Done  42 tasks      | elapsed:    7.7s\n",
      "[Parallel(n_jobs=4)]: Done 206 tasks      | elapsed:   42.3s\n",
      "[Parallel(n_jobs=4)]: Done 456 tasks      | elapsed:  1.3min\n",
      "[Parallel(n_jobs=4)]: Done 800 out of 800 | elapsed:  2.1min finished\n",
      "C:\\Users\\avish\\Anaconda3\\lib\\site-packages\\sklearn\\model_selection\\_search.py:813: DeprecationWarning: The default of the `iid` parameter will change from True to False in version 0.22 and will be removed in 0.24. This will change numeric results when test-set sizes are unequal.\n",
      "  DeprecationWarning)\n"
     ]
    },
    {
     "name": "stdout",
     "output_type": "stream",
     "text": [
      "cross validation mean = 0.8260896677026162\n",
      "cross validation std = 0.022929336746432775\n"
     ]
    }
   ],
   "source": [
    "param_grid = {\n",
    "    \"loss\":[\"deviance\"],\n",
    "    \"learning_rate\": [0.01, 0.025, 0.05, 0.075, 0.1, 0.15, 0.2],\n",
    "    \"min_samples_split\": np.linspace(0.1, 0.5, 12),\n",
    "    \"min_samples_leaf\": np.linspace(0.1, 0.5, 12),\n",
    "    \"max_depth\":[3,5,8],\n",
    "    \"max_features\":[\"log2\",\"sqrt\"],\n",
    "    \"criterion\": [\"friedman_mse\",  \"mae\"],\n",
    "    \"subsample\":[0.5, 0.618, 0.8, 0.85, 0.9, 0.95, 1.0],\n",
    "    \"n_estimators\":[50, 100 ,300 ,500 ,1000 ,1500]\n",
    "    }\n",
    "\n",
    "gbc_rnd_search = RandomizedSearchCV(estimator=GradientBoostingClassifier(),cv=4, n_jobs=4,\n",
    "                                param_distributions=param_grid,n_iter = 200,verbose=1)\n",
    "\n",
    "gbc_rnd_search.fit(X_train , y_train)\n",
    "cross_val_test(gbc_rnd_search.best_estimator_,X_train, y_train)"
   ]
  },
  {
   "cell_type": "code",
   "execution_count": null,
   "metadata": {},
   "outputs": [],
   "source": [
    "preds = gbc_rnd_search.best_estimator_.predict(X_test)\n",
    "create_submission('gradient_boosting' , test_df['PassengerId'] , preds)"
   ]
  },
  {
   "cell_type": "code",
   "execution_count": 44,
   "metadata": {},
   "outputs": [],
   "source": [
    "estimators = [('rf' , RandomForestClassifier(**rf_grid_search.best_params_) ),\n",
    "              ('xgb' , xgb_clf),\n",
    "              ('gbc' , GradientBoostingClassifier(**gbc_rnd_search.best_params_) )]\n",
    "\n",
    "for est in estimators:\n",
    "    est[1].fit(X_train , y_train)\n",
    "\n",
    "voting_clf = VotingClassifier(estimators)\n",
    "voting_clf.fit(X_train , y_train)"
   ]
  },
  {
   "cell_type": "code",
   "execution_count": 54,
   "metadata": {},
   "outputs": [],
   "source": [
    "\n",
    "preds = estimators[0][1].predict(X_test)\n",
    "create_submission('rf_clf' , test_df['PassengerId'] , preds)\n"
   ]
  },
  {
   "cell_type": "code",
   "execution_count": 53,
   "metadata": {},
   "outputs": [
    {
     "data": {
      "text/plain": [
       "31"
      ]
     },
     "execution_count": 53,
     "metadata": {},
     "output_type": "execute_result"
    }
   ],
   "source": [
    "gbc_preds = estimators[2][1].predict(X_test)\n",
    "rf_preds = estimators[0][1].predict(X_test)\n",
    "\n",
    "\n",
    "sum(gbc_preds != rf_preds)"
   ]
  }
 ],
 "metadata": {
  "kernelspec": {
   "display_name": "Python 3",
   "language": "python",
   "name": "python3"
  },
  "language_info": {
   "codemirror_mode": {
    "name": "ipython",
    "version": 3
   },
   "file_extension": ".py",
   "mimetype": "text/x-python",
   "name": "python",
   "nbconvert_exporter": "python",
   "pygments_lexer": "ipython3",
   "version": "3.6.8"
  }
 },
 "nbformat": 4,
 "nbformat_minor": 2
}
